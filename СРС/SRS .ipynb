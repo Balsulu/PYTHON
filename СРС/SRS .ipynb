{
 "cells": [
  {
   "cell_type": "code",
   "execution_count": null,
   "id": "a95a9b90",
   "metadata": {},
   "outputs": [],
   "source": [
    "#задание 1.4.1\n",
    "answer=[медиана, мода, среднее арифметическое]\n",
    "#задание 1.4.2\n",
    "answer=[мода]\n",
    "answer=[Присутствуют выбросы]\n",
    "Среднее арифметическое пяти чисел равно 8.2 . Четыре из этих чисел — 6,10,7,12. Найдите пятое число = 6\n",
    "#задание 1.4.3\n",
    "answer=[1 балл больше]\n",
    "answer=[генеральной совокупностью]"
   ]
  },
  {
   "cell_type": "code",
   "execution_count": 20,
   "id": "07826f39",
   "metadata": {},
   "outputs": [],
   "source": [
    "import numpy as np"
   ]
  },
  {
   "cell_type": "code",
   "execution_count": 21,
   "id": "05fb16ed",
   "metadata": {},
   "outputs": [
    {
     "name": "stdout",
     "output_type": "stream",
     "text": [
      "Object `массива` not found.\n"
     ]
    }
   ],
   "source": [
    "\n",
    "# Задание 1\n",
    "Какой индекс имеет верхний левый элемент любого двумерного массива?\n",
    "answer_1 = [0,0]"
   ]
  },
  {
   "cell_type": "code",
   "execution_count": 22,
   "id": "5b5dca21",
   "metadata": {},
   "outputs": [
    {
     "data": {
      "text/plain": [
       "array([[ 8, 13, 18,  4],\n",
       "       [25,  3, 18, 28],\n",
       "       [14, 15, 18, 24],\n",
       "       [ 1,  2,  3,  4]])"
      ]
     },
     "execution_count": 22,
     "metadata": {},
     "output_type": "execute_result"
    }
   ],
   "source": [
    "# Задание 2\n",
    "np.array([[8,13,18,4], [25,3,18,28], [14,15,18,24], [1,2,3,4]])"
   ]
  },
  {
   "cell_type": "code",
   "execution_count": 23,
   "id": "d82aa413",
   "metadata": {},
   "outputs": [],
   "source": [
    "answer_2 = [8, 3, 18, 4]"
   ]
  },
  {
   "cell_type": "code",
   "execution_count": 24,
   "id": "10fc3f7a",
   "metadata": {},
   "outputs": [
    {
     "data": {
      "text/plain": [
       "array([[  1. ,  57. ,  71. , 127. , 141. , 197. , 211. , 267. , 281. ],\n",
       "       [  0.5,  28.5,  35.5,  63.5,  70.5,  98.5, 105.5, 133.5, 140.5],\n",
       "       [-99. , -43. , -29. ,  27. ,  41. ,  97. , 111. , 167. , 181. ]])"
      ]
     },
     "execution_count": 24,
     "metadata": {},
     "output_type": "execute_result"
    }
   ],
   "source": [
    "# Task 3\n",
    "my_secret = [x for x in range(1, 301, 7) if x%10 == 7 or x%10 == 1]\n",
    "np.array([my_secret, [x/2 for x in my_secret], [x-100 for x in my_secret]])"
   ]
  },
  {
   "cell_type": "code",
   "execution_count": 25,
   "id": "295b051b",
   "metadata": {},
   "outputs": [],
   "source": [
    "answer_3 = [281.0, 140.5, 181.0]"
   ]
  },
  {
   "cell_type": "code",
   "execution_count": 26,
   "id": "f6a963ca",
   "metadata": {},
   "outputs": [],
   "source": [
    "# Задание 4\n",
    "answer_4 = np.eye(5)"
   ]
  },
  {
   "cell_type": "code",
   "execution_count": 27,
   "id": "e6417f58",
   "metadata": {},
   "outputs": [
    {
     "data": {
      "text/plain": [
       "men      70.84\n",
       "women    58.37\n",
       "dtype: float64"
      ]
     },
     "execution_count": 27,
     "metadata": {},
     "output_type": "execute_result"
    }
   ],
   "source": [
    "# Задание 1.5.1\n",
    "\n",
    "import pandas as pd\n",
    "\n",
    "df = pd.DataFrame({\n",
    "    'men': [80.2, 80.8, 57.5, 98, 50.5, 73.8, 77.4, 59.7, 77.9, 52.6],\n",
    "    'women': [57.9, 57.3, 72.8, 48.2, 59.5, 48.3, 61.2, 53.9, 53.9, 70.7]\n",
    "})\n",
    "df.mean()"
   ]
  },
  {
   "cell_type": "code",
   "execution_count": 29,
   "id": "30c84380",
   "metadata": {},
   "outputs": [
    {
     "data": {
      "text/plain": [
       "men      75.6\n",
       "women    57.6\n",
       "dtype: float64"
      ]
     },
     "execution_count": 29,
     "metadata": {},
     "output_type": "execute_result"
    }
   ],
   "source": [
    "df.median()"
   ]
  },
  {
   "cell_type": "code",
   "execution_count": 32,
   "id": "ad194a1a",
   "metadata": {},
   "outputs": [
    {
     "data": {
      "text/plain": [
       "men      75.6\n",
       "women    57.6\n",
       "Name: 0.5, dtype: float64"
      ]
     },
     "execution_count": 32,
     "metadata": {},
     "output_type": "execute_result"
    }
   ],
   "source": [
    "df.quantile()"
   ]
  },
  {
   "cell_type": "code",
   "execution_count": 33,
   "id": "fb44aae0",
   "metadata": {},
   "outputs": [],
   "source": [
    "# Задание 1.5.1 Средний вес мужчины в данной выборке превышает средний вес женщины на __12.47____ кг."
   ]
  },
  {
   "cell_type": "code",
   "execution_count": null,
   "id": "938af5e1",
   "metadata": {},
   "outputs": [],
   "source": [
    "#Задание 1.5.2\n"
   ]
  }
 ],
 "metadata": {
  "kernelspec": {
   "display_name": "Python 3 (ipykernel)",
   "language": "python",
   "name": "python3"
  },
  "language_info": {
   "codemirror_mode": {
    "name": "ipython",
    "version": 3
   },
   "file_extension": ".py",
   "mimetype": "text/x-python",
   "name": "python",
   "nbconvert_exporter": "python",
   "pygments_lexer": "ipython3",
   "version": "3.9.7"
  }
 },
 "nbformat": 4,
 "nbformat_minor": 5
}
