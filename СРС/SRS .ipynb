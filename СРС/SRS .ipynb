{
 "cells": [
  {
   "cell_type": "code",
   "execution_count": null,
   "id": "0889a825",
   "metadata": {},
   "outputs": [],
   "source": [
    "#задание 1.4.1\n",
    "answer=[медиана, мода, среднее арифметическое]\n",
    "#задание 1.4.2\n",
    "answer=[мода]\n",
    "answer=[Присутствуют выбросы]\n",
    "Среднее арифметическое пяти чисел равно 8.2 . Четыре из этих чисел — 6,10,7,12. Найдите пятое число = 6\n",
    "#задание 1.4.3\n",
    "answer=[1 балл больше]\n",
    "answer=[генеральной совокупностью]"
   ]
  },
  {
   "cell_type": "code",
   "execution_count": 20,
   "id": "41f84cf4",
   "metadata": {},
   "outputs": [],
   "source": [
    "import numpy as np"
   ]
  },
  {
   "cell_type": "code",
   "execution_count": 21,
   "id": "88fd0076",
   "metadata": {},
   "outputs": [
    {
     "name": "stdout",
     "output_type": "stream",
     "text": [
      "Object `массива` not found.\n"
     ]
    }
   ],
   "source": [
    "\n",
    "# Задание 1\n",
    "Какой индекс имеет верхний левый элемент любого двумерного массива?\n",
    "answer_1 = [0,0]"
   ]
  },
  {
   "cell_type": "code",
   "execution_count": 22,
   "id": "742b2baf",
   "metadata": {},
   "outputs": [
    {
     "data": {
      "text/plain": [
       "array([[ 8, 13, 18,  4],\n",
       "       [25,  3, 18, 28],\n",
       "       [14, 15, 18, 24],\n",
       "       [ 1,  2,  3,  4]])"
      ]
     },
     "execution_count": 22,
     "metadata": {},
     "output_type": "execute_result"
    }
   ],
   "source": [
    "# Задание 2\n",
    "np.array([[8,13,18,4], [25,3,18,28], [14,15,18,24], [1,2,3,4]])"
   ]
  },
  {
   "cell_type": "code",
   "execution_count": 23,
   "id": "876a4832",
   "metadata": {},
   "outputs": [],
   "source": [
    "answer_2 = [8, 3, 18, 4]"
   ]
  },
  {
   "cell_type": "code",
   "execution_count": 24,
   "id": "028aae64",
   "metadata": {},
   "outputs": [
    {
     "data": {
      "text/plain": [
       "array([[  1. ,  57. ,  71. , 127. , 141. , 197. , 211. , 267. , 281. ],\n",
       "       [  0.5,  28.5,  35.5,  63.5,  70.5,  98.5, 105.5, 133.5, 140.5],\n",
       "       [-99. , -43. , -29. ,  27. ,  41. ,  97. , 111. , 167. , 181. ]])"
      ]
     },
     "execution_count": 24,
     "metadata": {},
     "output_type": "execute_result"
    }
   ],
   "source": [
    "# Task 3\n",
    "my_secret = [x for x in range(1, 301, 7) if x%10 == 7 or x%10 == 1]\n",
    "np.array([my_secret, [x/2 for x in my_secret], [x-100 for x in my_secret]])"
   ]
  },
  {
   "cell_type": "code",
   "execution_count": 25,
   "id": "8c40b5f9",
   "metadata": {},
   "outputs": [],
   "source": [
    "answer_3 = [281.0, 140.5, 181.0]"
   ]
  },
  {
   "cell_type": "code",
   "execution_count": 26,
   "id": "3b342c07",
   "metadata": {},
   "outputs": [],
   "source": [
    "# Задание 4\n",
    "answer_4 = np.eye(5)"
   ]
  },
  {
   "cell_type": "code",
   "execution_count": 27,
   "id": "55c704cf",
   "metadata": {},
   "outputs": [
    {
     "data": {
      "text/plain": [
       "men      70.84\n",
       "women    58.37\n",
       "dtype: float64"
      ]
     },
     "execution_count": 27,
     "metadata": {},
     "output_type": "execute_result"
    }
   ],
   "source": [
    "# Задание 1.5.1\n",
    "\n",
    "import pandas as pd\n",
    "\n",
    "df = pd.DataFrame({\n",
    "    'men': [80.2, 80.8, 57.5, 98, 50.5, 73.8, 77.4, 59.7, 77.9, 52.6],\n",
    "    'women': [57.9, 57.3, 72.8, 48.2, 59.5, 48.3, 61.2, 53.9, 53.9, 70.7]\n",
    "})\n",
    "df.mean()"
   ]
  },
  {
   "cell_type": "code",
   "execution_count": 37,
   "id": "04a8fe8b",
   "metadata": {},
   "outputs": [
    {
     "data": {
      "text/plain": [
       "men      75.6\n",
       "women    57.6\n",
       "dtype: float64"
      ]
     },
     "execution_count": 37,
     "metadata": {},
     "output_type": "execute_result"
    }
   ],
   "source": [
    "df.median()"
   ]
  },
  {
   "cell_type": "code",
   "execution_count": 38,
   "id": "efca01b8",
   "metadata": {},
   "outputs": [
    {
     "data": {
      "text/plain": [
       "men      75.6\n",
       "women    57.6\n",
       "Name: 0.5, dtype: float64"
      ]
     },
     "execution_count": 38,
     "metadata": {},
     "output_type": "execute_result"
    }
   ],
   "source": [
    "df.quantile()"
   ]
  },
  {
   "cell_type": "code",
   "execution_count": 39,
   "id": "7f4e230e",
   "metadata": {},
   "outputs": [],
   "source": [
    "# Задание 1.5.1 Средний вес мужчины в данной выборке превышает средний вес женщины на __12.47____ кг."
   ]
  },
  {
   "cell_type": "code",
   "execution_count": 40,
   "id": "a2014e4e",
   "metadata": {},
   "outputs": [],
   "source": [
    "#Задание 1.5.2\n",
    "#Медиана в первом наборе данных равна ___4.5__. (введите значение с точкой в качестве разделителя)\n",
    "\n",
    "#Это на __3.5__ меньше медианы во втором наборе данных. (введите значение с точкой в качестве разделителя)\n"
   ]
  },
  {
   "cell_type": "code",
   "execution_count": 52,
   "id": "9b9aa1e5",
   "metadata": {},
   "outputs": [
    {
     "data": {
      "text/plain": [
       "men      75.6\n",
       "women    57.6\n",
       "dtype: float64"
      ]
     },
     "execution_count": 52,
     "metadata": {},
     "output_type": "execute_result"
    }
   ],
   "source": [
    "# Задание 1.5.3\n",
    "df.median()"
   ]
  },
  {
   "cell_type": "code",
   "execution_count": 53,
   "id": "5eb58997",
   "metadata": {},
   "outputs": [
    {
     "data": {
      "text/plain": [
       "men      75.6\n",
       "women    57.6\n",
       "Name: 0.5, dtype: float64"
      ]
     },
     "execution_count": 53,
     "metadata": {},
     "output_type": "execute_result"
    }
   ],
   "source": [
    "# Задание 1.7.1\n",
    "df = pd.DataFrame({\n",
    "    'men': [80, 80.8, 57.5, 98, 50.5, 73.8, 77.4, 59.7, 77.9, 52.6],\n",
    "    'women': [57.9, 57.3, 72.8, 48.2, 59.5, 48.3, 61.2, 53.9, 53.9, 70.7]})\n",
    "df.quantile(q=0.5, axis=0, numeric_only=True, interpolation='linear')"
   ]
  },
  {
   "cell_type": "code",
   "execution_count": 43,
   "id": "adc09052",
   "metadata": {},
   "outputs": [
    {
     "data": {
      "text/plain": [
       "men      75.6\n",
       "women    57.6\n",
       "Name: 0.5, dtype: float64"
      ]
     },
     "execution_count": 43,
     "metadata": {},
     "output_type": "execute_result"
    }
   ],
   "source": [
    "df.quantile(q=0.5, axis=0, numeric_only=True, interpolation='midpoint')"
   ]
  },
  {
   "cell_type": "code",
   "execution_count": 44,
   "id": "2fc51507",
   "metadata": {},
   "outputs": [],
   "source": [
    "# 25 % мужчин весят больше, чем 75.6 кг."
   ]
  },
  {
   "cell_type": "code",
   "execution_count": 54,
   "id": "de280bf9",
   "metadata": {},
   "outputs": [],
   "source": [
    "# Задание 1.8.1\n",
    "#answer=[стандартное отклонение]"
   ]
  },
  {
   "cell_type": "code",
   "execution_count": 55,
   "id": "e8f47dc6",
   "metadata": {},
   "outputs": [],
   "source": [
    "# Задание 1.9.1\n",
    "import pandas as pd\n",
    "df = pd.DataFrame({\n",
    "    'men': [80.2, 80.8, 57.5, 98, 50.5, 73.8, 77.4, 59.7, 77.9, 52.6],\n",
    "    'women': [57.9, 57.3, 72.8, 48.2, 59.5, 48.3, 61.2, 53.9, 53.9, 70.7]})"
   ]
  },
  {
   "cell_type": "code",
   "execution_count": 49,
   "id": "4e13a6e6",
   "metadata": {},
   "outputs": [
    {
     "data": {
      "text/plain": [
       "men      50.5\n",
       "women    48.2\n",
       "dtype: float64"
      ]
     },
     "execution_count": 49,
     "metadata": {},
     "output_type": "execute_result"
    }
   ],
   "source": [
    "df.min()"
   ]
  },
  {
   "cell_type": "code",
   "execution_count": 50,
   "id": "c101025d",
   "metadata": {},
   "outputs": [
    {
     "data": {
      "text/plain": [
       "men      98.0\n",
       "women    72.8\n",
       "dtype: float64"
      ]
     },
     "execution_count": 50,
     "metadata": {},
     "output_type": "execute_result"
    }
   ],
   "source": [
    "df.max()"
   ]
  },
  {
   "cell_type": "code",
   "execution_count": 51,
   "id": "46da179e",
   "metadata": {},
   "outputs": [
    {
     "data": {
      "text/plain": [
       "men      75.6\n",
       "women    57.6\n",
       "Name: 0.5, dtype: float64"
      ]
     },
     "execution_count": 51,
     "metadata": {},
     "output_type": "execute_result"
    }
   ],
   "source": [
    "df.quantile()"
   ]
  },
  {
   "cell_type": "code",
   "execution_count": null,
   "id": "3b782aed",
   "metadata": {},
   "outputs": [],
   "source": []
  }
 ],
 "metadata": {
  "kernelspec": {
   "display_name": "Python 3 (ipykernel)",
   "language": "python",
   "name": "python3"
  },
  "language_info": {
   "codemirror_mode": {
    "name": "ipython",
    "version": 3
   },
   "file_extension": ".py",
   "mimetype": "text/x-python",
   "name": "python",
   "nbconvert_exporter": "python",
   "pygments_lexer": "ipython3",
   "version": "3.9.7"
  }
 },
 "nbformat": 4,
 "nbformat_minor": 5
}
